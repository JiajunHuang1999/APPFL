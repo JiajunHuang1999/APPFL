{
 "cells": [
  {
   "cell_type": "code",
   "execution_count": null,
   "metadata": {},
   "outputs": [],
   "source": [
    "# !pip install --upgrade pandas\n",
    "# !pip install --upgrade --ignore-installed PyYAML\n",
    "# !pip install --upgrade pip\n",
    "# !pip install --upgrade gen3 --user --upgrade\n",
    "# !pip install cdiserrors\n",
    "# !pip install --upgrade pydicom"
   ]
  },
  {
   "cell_type": "code",
   "execution_count": null,
   "metadata": {},
   "outputs": [],
   "source": [
    "import pandas as pd\n",
    "import sys, os, webbrowser\n",
    "import gen3\n",
    "import pydicom\n",
    "import matplotlib.pyplot as plt\n",
    "\n",
    "import numpy as np\n",
    "from PIL import Image\n",
    "import os\n",
    "# from dicom_csv import join_tree\n",
    "import subprocess\n",
    "import zipfile\n",
    "\n",
    "\n",
    "\n",
    "\n",
    "from gen3.submission import Gen3Submission\n",
    "from gen3.auth import Gen3Auth\n",
    "from gen3.index import Gen3Index\n",
    "from gen3.query import Gen3Query"
   ]
  },
  {
   "cell_type": "code",
   "execution_count": null,
   "metadata": {},
   "outputs": [],
   "source": [
    "# # Import some custom Python scripts from personal GitHub repo.\n",
    "# # Change these directory paths to reflect your local working directory.\n",
    "\n",
    "# home_dir = \"/Users/hanchen\" \n",
    "# demo_dir = \"{}/Downloads/Research Working/Federal Learning\".format(home_dir)\n",
    "\n",
    "# print(demo_dir)\n",
    "# os.chdir(demo_dir)\n",
    "\n",
    "# os.system(\"wget https://raw.githubusercontent.com/cgmeyer/gen3sdk-python/master/expansion/expansion.py -O {}/expansion.py\".format(demo_dir))\n",
    "# %run expansion.py\n"
   ]
  },
  {
   "cell_type": "code",
   "execution_count": null,
   "metadata": {},
   "outputs": [],
   "source": [
    "# Initiate instances of the Gen3 SDK Classes using credentials file for authentication.\n",
    "# Change the directory path in \"cred\" to reflect the location of your credentials file.\n",
    "\n",
    "# api = \"https://data.midrc.org\"\n",
    "# cred = \"/Users/hanchen/Downloads/credentials.json\"\n",
    "# auth = Gen3Auth(api, refresh_file=cred) # authentication class\n",
    "# sub = Gen3Submission(api, auth) # submission class\n",
    "# query = Gen3Query(auth) # query class\n",
    "# exp = Gen3Expansion(api,auth,sub) # class with some custom scripts\n",
    "# exp.get_project_ids()\n"
   ]
  },
  {
   "cell_type": "code",
   "execution_count": null,
   "metadata": {},
   "outputs": [],
   "source": [
    "# Reading a CSV file from a file path\n",
    "csv_file_path = os.getcwd()+\"/datasets/MIDRC_Imaging_Studies_table_2.csv\"\n",
    "print(csv_file_path)\n",
    "csv_data = pd.read_csv(csv_file_path, sep=',', header=0)\n",
    "csv_data\n"
   ]
  },
  {
   "cell_type": "code",
   "execution_count": null,
   "metadata": {},
   "outputs": [],
   "source": [
    "# object_ids = ['dg.MD1R/ea669b5e-ae51-40ba-b375-ed23a9cd1855']\n",
    "\n",
    "# output_addr = \"/Users/hanchen/Downloads/Research Working/Federal Learning/\"\n"
   ]
  },
  {
   "cell_type": "code",
   "execution_count": null,
   "metadata": {},
   "outputs": [],
   "source": [
    "def dcm_to_png(image_path):\n",
    "    ds = pydicom.dcmread(image_path)    \n",
    "    new_image = ds.pixel_array.astype(float)\n",
    "    scaled_image = np.uint8((np.maximum(new_image, 0) / new_image.max()) * 255.0)    \n",
    "    final_image = Image.fromarray(scaled_image)\n",
    "    final_image.save(image_path[:-4]+'.png')"
   ]
  },
  {
   "cell_type": "code",
   "execution_count": null,
   "metadata": {},
   "outputs": [],
   "source": [
    "def unzip_raw_data(case_id):\n",
    "    image_path = os.getcwd()+\"/datasets/MIDRC_Data/{}/\".format(case_id)\n",
    "    # \"/Users/hanchen/Downloads/Research Working/Federal Learning/{}/\".format(case_id)\n",
    "\n",
    "    study_uids = os.listdir(image_path)\n",
    "\n",
    "    print(image_path)\n",
    "    print(study_uids)\n",
    "\n",
    "    for study_uid in study_uids:\n",
    "        if study_uid.startswith('.'):\n",
    "            continue;\n",
    "        if not os.path.isdir(image_path+study_uid):\n",
    "            continue\n",
    "        file_names = os.listdir(image_path+study_uid)\n",
    "        # print(file_names)\n",
    "        for file_name in file_names:\n",
    "            if file_name[-3:]!='zip':\n",
    "                continue;\n",
    "            folder_name = []\n",
    "            with zipfile.ZipFile(image_path+study_uid+'/'+file_name, 'r') as zip_file:\n",
    "                zip_file_names = zip_file.namelist()\n",
    "                for zip_file_name in zip_file_names:\n",
    "                    # print(zip_file_name)\n",
    "                    # Record folder name\n",
    "                    folder_name = zip_file_name[:zip_file_name.index('/')]\n",
    "\n",
    "                    # Specify the file name or path within the ZIP archive\n",
    "                    file_to_fetch = zip_file_name\n",
    "                    # print('file:',zip_file_name)\n",
    "                    \n",
    "                    # Extract the file to the desired location\n",
    "                    zip_file.extract(file_to_fetch, image_path)\n",
    "                    # print(\"File extracted successfully.\")\n",
    "                    \n",
    "                    # print('FROM:',image_path+zip_file_name)\n",
    "                    # print('TO:  ',image_path+zip_file_name[zip_file_name.index('/')+1:])\n",
    "                    os.rename(image_path+zip_file_name, image_path+zip_file_name[zip_file_name.index('/')+1:])\n",
    "            os.rmdir(image_path+folder_name)\n",
    "    file_names = os.listdir(image_path)\n",
    "    for file_name in file_names:\n",
    "        if file_name[-3:]=='dcm':\n",
    "            dcm_to_png(image_path+file_name)"
   ]
  },
  {
   "cell_type": "code",
   "execution_count": null,
   "metadata": {},
   "outputs": [],
   "source": [
    "for index, row in csv_data.iterrows():\n",
    "    unzip_raw_data(row[12])\n",
    "    print(f\"unzip {index} successfully\");\n",
    "    # Access row values using column names or indices\n",
    "    # for i in range(len(row)):\n",
    "    #     column1_value = row[i]\n",
    "    #     print(f\"Row {index}, Column {i}: {column1_value}\")"
   ]
  },
  {
   "cell_type": "code",
   "execution_count": null,
   "metadata": {},
   "outputs": [],
   "source": []
  }
 ],
 "metadata": {
  "kernelspec": {
   "display_name": "APPFL",
   "language": "python",
   "name": "python3"
  },
  "language_info": {
   "codemirror_mode": {
    "name": "ipython",
    "version": 3
   },
   "file_extension": ".py",
   "mimetype": "text/x-python",
   "name": "python",
   "nbconvert_exporter": "python",
   "pygments_lexer": "ipython3",
   "version": "3.8.16"
  },
  "orig_nbformat": 4
 },
 "nbformat": 4,
 "nbformat_minor": 2
}
