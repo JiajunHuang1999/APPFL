{
 "cells": [
  {
   "cell_type": "code",
   "execution_count": null,
   "metadata": {},
   "outputs": [],
   "source": [
    "import pandas as pd\n",
    "import sys, os, webbrowser\n",
    "import gen3\n",
    "import pydicom\n",
    "import matplotlib.pyplot as plt\n",
    "\n",
    "import numpy as np\n",
    "from PIL import Image\n",
    "import os\n",
    "# from dicom_csv import join_tree\n",
    "import subprocess\n",
    "import zipfile\n",
    "\n",
    "\n",
    "\n",
    "\n",
    "from gen3.submission import Gen3Submission\n",
    "from gen3.auth import Gen3Auth\n",
    "from gen3.index import Gen3Index\n",
    "from gen3.query import Gen3Query"
   ]
  },
  {
   "cell_type": "code",
   "execution_count": null,
   "metadata": {},
   "outputs": [],
   "source": [
    "cred = os.getcwd()+\"/datasets/credentials.json\" # change this file path\n",
    "\n",
    "num_data = 50\n",
    "\n",
    "csv_file_path = os.getcwd()+\"/datasets/MIDRC_Imaging_Studies_table_Full.csv\"\n",
    "csv_data = pd.read_csv(csv_file_path, sep=',', header=0)\n",
    "\n",
    "\n",
    "# for index, row in csv_data.iterrows():\n",
    "\n",
    "object_ids = np.array(csv_data)[:num_data,22]\n",
    "print(object_ids)"
   ]
  },
  {
   "cell_type": "code",
   "execution_count": null,
   "metadata": {},
   "outputs": [],
   "source": [
    "# for object_id in object_ids:\n",
    "#     cmd = \"gen3 --auth {} --endpoint data.midrc.org drs-pull object {}\".format(cred,object_id)\n",
    "#     display(cmd)\n",
    "#     subprocess.run(cmd, shell=True, capture_output=True)\n",
    "cmd = [\n",
    "    \"gen3\",\n",
    "    \"--auth\",\n",
    "    \"/Users/hanchen/Downloads/credentials.json\",\n",
    "    \"--endpoint\",\n",
    "    \"data.midrc.org\",\n",
    "    \"drs-pull\",\n",
    "    \"object\",\n",
    "    \"dg.MD1R/54710a81-c3c3-4371-ad07-60e9d35dabac\"\n",
    "]\n",
    "current_dir = os.getcwd()\n",
    "print(current_dir)\n",
    "subprocess.run(cmd, shell=True, capture_output=True)\n"
   ]
  }
 ],
 "metadata": {
  "kernelspec": {
   "display_name": "APPFL",
   "language": "python",
   "name": "python3"
  },
  "language_info": {
   "codemirror_mode": {
    "name": "ipython",
    "version": 3
   },
   "file_extension": ".py",
   "mimetype": "text/x-python",
   "name": "python",
   "nbconvert_exporter": "python",
   "pygments_lexer": "ipython3",
   "version": "3.8.16"
  },
  "orig_nbformat": 4
 },
 "nbformat": 4,
 "nbformat_minor": 2
}
